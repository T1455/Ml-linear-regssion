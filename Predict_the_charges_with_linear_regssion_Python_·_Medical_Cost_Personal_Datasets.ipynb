{
  "nbformat": 4,
  "nbformat_minor": 0,
  "metadata": {
    "colab": {
      "name": "Predict the charges with linear regssion Python · Medical Cost Personal Datasets.ipynb",
      "provenance": [],
      "collapsed_sections": []
    },
    "kernelspec": {
      "name": "python3",
      "display_name": "Python 3"
    },
    "language_info": {
      "name": "python"
    }
  },
  "cells": [
    {
      "cell_type": "code",
      "source": [
        "import numpy as np\n",
        "import pandas as pd\n",
        "import sklearn\n",
        "import matplotlib.pyplot as plt\n",
        "from sklearn.model_selection import train_test_split"
      ],
      "metadata": {
        "id": "_62L50vL_jnm"
      },
      "execution_count": 2,
      "outputs": []
    },
    {
      "cell_type": "code",
      "source": [
        "from google.colab import drive\n",
        "drive.mount('/content/drive')"
      ],
      "metadata": {
        "colab": {
          "base_uri": "https://localhost:8080/"
        },
        "id": "66I3z3lEKUrE",
        "outputId": "ce4830d7-7c0c-4d2e-bd03-ce58ece90630"
      },
      "execution_count": 3,
      "outputs": [
        {
          "output_type": "stream",
          "name": "stdout",
          "text": [
            "Mounted at /content/drive\n"
          ]
        }
      ]
    },
    {
      "cell_type": "code",
      "execution_count": 4,
      "metadata": {
        "id": "6b_7BeZd-XU6"
      },
      "outputs": [],
      "source": [
        "dataset = pd.read_csv('/content/drive/MyDrive/nnfll B/insurance.csv')"
      ]
    },
    {
      "cell_type": "code",
      "source": [
        ""
      ],
      "metadata": {
        "id": "9IkZYt2gMm0z"
      },
      "execution_count": 4,
      "outputs": []
    },
    {
      "cell_type": "code",
      "source": [
        "X = dataset.iloc[:,0:6].values\n",
        "y = dataset.iloc[:,-1].values\n",
        "X\n",
        "\n"
      ],
      "metadata": {
        "id": "KriSwlNz_2Q-",
        "colab": {
          "base_uri": "https://localhost:8080/"
        },
        "outputId": "b054bae1-8101-42eb-bf51-f915d3b4c4dd"
      },
      "execution_count": 5,
      "outputs": [
        {
          "output_type": "execute_result",
          "data": {
            "text/plain": [
              "array([[19, 'female', 27.9, 0, 'yes', 'southwest'],\n",
              "       [18, 'male', 33.77, 1, 'no', 'southeast'],\n",
              "       [28, 'male', 33.0, 3, 'no', 'southeast'],\n",
              "       ...,\n",
              "       [18, 'female', 36.85, 0, 'no', 'southeast'],\n",
              "       [21, 'female', 25.8, 0, 'no', 'southwest'],\n",
              "       [61, 'female', 29.07, 0, 'yes', 'northwest']], dtype=object)"
            ]
          },
          "metadata": {},
          "execution_count": 5
        }
      ]
    },
    {
      "cell_type": "code",
      "source": [
        "from sklearn.preprocessing import OrdinalEncoder\n",
        "Or = OrdinalEncoder()\n",
        "X[:,[1,4,5]]= Or.fit_transform(X[:,[1,4,5]])"
      ],
      "metadata": {
        "id": "4qvE-wtWKw_L"
      },
      "execution_count": 6,
      "outputs": []
    },
    {
      "cell_type": "code",
      "source": [
        "X"
      ],
      "metadata": {
        "colab": {
          "base_uri": "https://localhost:8080/"
        },
        "id": "3eSwU4CamCwO",
        "outputId": "5764e591-7b09-421c-d4c0-e050e7b35a5e"
      },
      "execution_count": 7,
      "outputs": [
        {
          "output_type": "execute_result",
          "data": {
            "text/plain": [
              "array([[19, 0.0, 27.9, 0, 1.0, 3.0],\n",
              "       [18, 1.0, 33.77, 1, 0.0, 2.0],\n",
              "       [28, 1.0, 33.0, 3, 0.0, 2.0],\n",
              "       ...,\n",
              "       [18, 0.0, 36.85, 0, 0.0, 2.0],\n",
              "       [21, 0.0, 25.8, 0, 0.0, 3.0],\n",
              "       [61, 0.0, 29.07, 0, 1.0, 1.0]], dtype=object)"
            ]
          },
          "metadata": {},
          "execution_count": 7
        }
      ]
    },
    {
      "cell_type": "code",
      "source": [
        "from sklearn.preprocessing import MinMaxScaler\n",
        "sc = MinMaxScaler()\n",
        "X = sc.fit_transform(X)\n",
        "y = sc.fit_transform(y.reshape(-1,1))"
      ],
      "metadata": {
        "id": "EGy2wk0arWnl"
      },
      "execution_count": 8,
      "outputs": []
    },
    {
      "cell_type": "code",
      "source": [
        "X"
      ],
      "metadata": {
        "colab": {
          "base_uri": "https://localhost:8080/"
        },
        "id": "hHg682BcyN8J",
        "outputId": "b73a08f0-6305-47b9-beb4-8322b21121f1"
      },
      "execution_count": 9,
      "outputs": [
        {
          "output_type": "execute_result",
          "data": {
            "text/plain": [
              "array([[0.02173913, 0.        , 0.3212268 , 0.        , 1.        ,\n",
              "        1.        ],\n",
              "       [0.        , 1.        , 0.47914985, 0.2       , 0.        ,\n",
              "        0.66666667],\n",
              "       [0.2173913 , 1.        , 0.45843422, 0.6       , 0.        ,\n",
              "        0.66666667],\n",
              "       ...,\n",
              "       [0.        , 0.        , 0.56201238, 0.        , 0.        ,\n",
              "        0.66666667],\n",
              "       [0.06521739, 0.        , 0.26472962, 0.        , 0.        ,\n",
              "        1.        ],\n",
              "       [0.93478261, 0.        , 0.35270379, 0.        , 1.        ,\n",
              "        0.33333333]])"
            ]
          },
          "metadata": {},
          "execution_count": 9
        }
      ]
    },
    {
      "cell_type": "code",
      "source": [
        "X_train,X_test,y_train,y_test = train_test_split(X, y, test_size = 0.2,random_state = 2)\n",
        "print(X_train.shape)\n",
        "print(X_test.shape)\n",
        "print(y_train.shape)\n",
        "print(y_test.shape)"
      ],
      "metadata": {
        "id": "I1UuNzPK62ZO",
        "colab": {
          "base_uri": "https://localhost:8080/"
        },
        "outputId": "563f3c40-ff35-4807-cfca-b768c1b7153e"
      },
      "execution_count": 10,
      "outputs": [
        {
          "output_type": "stream",
          "name": "stdout",
          "text": [
            "(1070, 6)\n",
            "(268, 6)\n",
            "(1070, 1)\n",
            "(268, 1)\n"
          ]
        }
      ]
    },
    {
      "cell_type": "code",
      "source": [
        "# from sklearn.linear_model import LinearRegression\n",
        "# regressor = LinearRegression()\n",
        "# model1=LinearRegression().fit(X_train,y_train)\n",
        "# a=model1.predict(X_train)\n",
        "# # training_data_prediction = regressor.predict(X_train)\n",
        "# # r2_train = metrics.r2_score(Y_train,training_data_prediction)\n",
        "# print('R squared value:', a)\n",
        "# # testing_data_prediction = regressor.predict(X_test)\n",
        "# # r2_test = metrics.r2_score(Y_test,testing_data_prediction)\n",
        "# # print('R squared value:', r2_test)"
      ],
      "metadata": {
        "id": "3oeqwuSttUnQ"
      },
      "execution_count": 11,
      "outputs": []
    },
    {
      "cell_type": "code",
      "source": [
        "from tensorflow.keras.models import Sequential\n",
        "from tensorflow.keras.layers import Dense\n",
        "from tensorflow.keras.optimizers import Adam"
      ],
      "metadata": {
        "id": "QqM_uvb0_2au"
      },
      "execution_count": 12,
      "outputs": []
    },
    {
      "cell_type": "code",
      "source": [
        "model = Sequential()\n",
        "model.add(Dense(32, input_dim=6, activation='relu'))\n",
        "model.add(Dense(16, activation='relu'))\n",
        "model.add(Dense(8, activation='relu'))\n",
        "\n",
        "model.compile(loss='mean_squared_error', optimizer='Adam', metrics=['mean_squared_error'])"
      ],
      "metadata": {
        "id": "lQWrpuGYXlzP"
      },
      "execution_count": 13,
      "outputs": []
    },
    {
      "cell_type": "code",
      "source": [
        "model.summary()"
      ],
      "metadata": {
        "id": "YHQF0GsV7DEH",
        "colab": {
          "base_uri": "https://localhost:8080/"
        },
        "outputId": "a828eda6-f6d4-4dee-ec1f-fcf3f4e57b49"
      },
      "execution_count": 14,
      "outputs": [
        {
          "output_type": "stream",
          "name": "stdout",
          "text": [
            "Model: \"sequential\"\n",
            "_________________________________________________________________\n",
            " Layer (type)                Output Shape              Param #   \n",
            "=================================================================\n",
            " dense (Dense)               (None, 32)                224       \n",
            "                                                                 \n",
            " dense_1 (Dense)             (None, 16)                528       \n",
            "                                                                 \n",
            " dense_2 (Dense)             (None, 8)                 136       \n",
            "                                                                 \n",
            "=================================================================\n",
            "Total params: 888\n",
            "Trainable params: 888\n",
            "Non-trainable params: 0\n",
            "_________________________________________________________________\n"
          ]
        }
      ]
    },
    {
      "cell_type": "code",
      "source": [
        "history = model.fit(X_train,y_train, epochs =50, validation_data=(X_test, y_test))"
      ],
      "metadata": {
        "colab": {
          "base_uri": "https://localhost:8080/"
        },
        "id": "4qUCKvuwXsk5",
        "outputId": "d36dc80b-3fad-4c0b-f123-ab17dca38ce7"
      },
      "execution_count": 15,
      "outputs": [
        {
          "output_type": "stream",
          "name": "stdout",
          "text": [
            "Epoch 1/50\n",
            "34/34 [==============================] - 1s 7ms/step - loss: 0.0490 - mean_squared_error: 0.0490 - val_loss: 0.0304 - val_mean_squared_error: 0.0304\n",
            "Epoch 2/50\n",
            "34/34 [==============================] - 0s 3ms/step - loss: 0.0209 - mean_squared_error: 0.0209 - val_loss: 0.0145 - val_mean_squared_error: 0.0145\n",
            "Epoch 3/50\n",
            "34/34 [==============================] - 0s 3ms/step - loss: 0.0120 - mean_squared_error: 0.0120 - val_loss: 0.0122 - val_mean_squared_error: 0.0122\n",
            "Epoch 4/50\n",
            "34/34 [==============================] - 0s 2ms/step - loss: 0.0104 - mean_squared_error: 0.0104 - val_loss: 0.0110 - val_mean_squared_error: 0.0110\n",
            "Epoch 5/50\n",
            "34/34 [==============================] - 0s 3ms/step - loss: 0.0097 - mean_squared_error: 0.0097 - val_loss: 0.0102 - val_mean_squared_error: 0.0102\n",
            "Epoch 6/50\n",
            "34/34 [==============================] - 0s 3ms/step - loss: 0.0092 - mean_squared_error: 0.0092 - val_loss: 0.0098 - val_mean_squared_error: 0.0098\n",
            "Epoch 7/50\n",
            "34/34 [==============================] - 0s 3ms/step - loss: 0.0088 - mean_squared_error: 0.0088 - val_loss: 0.0094 - val_mean_squared_error: 0.0094\n",
            "Epoch 8/50\n",
            "34/34 [==============================] - 0s 3ms/step - loss: 0.0085 - mean_squared_error: 0.0085 - val_loss: 0.0090 - val_mean_squared_error: 0.0090\n",
            "Epoch 9/50\n",
            "34/34 [==============================] - 0s 3ms/step - loss: 0.0081 - mean_squared_error: 0.0081 - val_loss: 0.0085 - val_mean_squared_error: 0.0085\n",
            "Epoch 10/50\n",
            "34/34 [==============================] - 0s 3ms/step - loss: 0.0077 - mean_squared_error: 0.0077 - val_loss: 0.0082 - val_mean_squared_error: 0.0082\n",
            "Epoch 11/50\n",
            "34/34 [==============================] - 0s 3ms/step - loss: 0.0074 - mean_squared_error: 0.0074 - val_loss: 0.0077 - val_mean_squared_error: 0.0077\n",
            "Epoch 12/50\n",
            "34/34 [==============================] - 0s 3ms/step - loss: 0.0071 - mean_squared_error: 0.0071 - val_loss: 0.0074 - val_mean_squared_error: 0.0074\n",
            "Epoch 13/50\n",
            "34/34 [==============================] - 0s 3ms/step - loss: 0.0069 - mean_squared_error: 0.0069 - val_loss: 0.0074 - val_mean_squared_error: 0.0074\n",
            "Epoch 14/50\n",
            "34/34 [==============================] - 0s 3ms/step - loss: 0.0067 - mean_squared_error: 0.0067 - val_loss: 0.0068 - val_mean_squared_error: 0.0068\n",
            "Epoch 15/50\n",
            "34/34 [==============================] - 0s 3ms/step - loss: 0.0066 - mean_squared_error: 0.0066 - val_loss: 0.0066 - val_mean_squared_error: 0.0066\n",
            "Epoch 16/50\n",
            "34/34 [==============================] - 0s 3ms/step - loss: 0.0064 - mean_squared_error: 0.0064 - val_loss: 0.0065 - val_mean_squared_error: 0.0065\n",
            "Epoch 17/50\n",
            "34/34 [==============================] - 0s 3ms/step - loss: 0.0064 - mean_squared_error: 0.0064 - val_loss: 0.0064 - val_mean_squared_error: 0.0064\n",
            "Epoch 18/50\n",
            "34/34 [==============================] - 0s 3ms/step - loss: 0.0063 - mean_squared_error: 0.0063 - val_loss: 0.0063 - val_mean_squared_error: 0.0063\n",
            "Epoch 19/50\n",
            "34/34 [==============================] - 0s 3ms/step - loss: 0.0061 - mean_squared_error: 0.0061 - val_loss: 0.0062 - val_mean_squared_error: 0.0062\n",
            "Epoch 20/50\n",
            "34/34 [==============================] - 0s 3ms/step - loss: 0.0062 - mean_squared_error: 0.0062 - val_loss: 0.0061 - val_mean_squared_error: 0.0061\n",
            "Epoch 21/50\n",
            "34/34 [==============================] - 0s 3ms/step - loss: 0.0061 - mean_squared_error: 0.0061 - val_loss: 0.0063 - val_mean_squared_error: 0.0063\n",
            "Epoch 22/50\n",
            "34/34 [==============================] - 0s 3ms/step - loss: 0.0061 - mean_squared_error: 0.0061 - val_loss: 0.0059 - val_mean_squared_error: 0.0059\n",
            "Epoch 23/50\n",
            "34/34 [==============================] - 0s 3ms/step - loss: 0.0060 - mean_squared_error: 0.0060 - val_loss: 0.0061 - val_mean_squared_error: 0.0061\n",
            "Epoch 24/50\n",
            "34/34 [==============================] - 0s 3ms/step - loss: 0.0059 - mean_squared_error: 0.0059 - val_loss: 0.0062 - val_mean_squared_error: 0.0062\n",
            "Epoch 25/50\n",
            "34/34 [==============================] - 0s 3ms/step - loss: 0.0059 - mean_squared_error: 0.0059 - val_loss: 0.0059 - val_mean_squared_error: 0.0059\n",
            "Epoch 26/50\n",
            "34/34 [==============================] - 0s 3ms/step - loss: 0.0058 - mean_squared_error: 0.0058 - val_loss: 0.0058 - val_mean_squared_error: 0.0058\n",
            "Epoch 27/50\n",
            "34/34 [==============================] - 0s 3ms/step - loss: 0.0059 - mean_squared_error: 0.0059 - val_loss: 0.0058 - val_mean_squared_error: 0.0058\n",
            "Epoch 28/50\n",
            "34/34 [==============================] - 0s 3ms/step - loss: 0.0058 - mean_squared_error: 0.0058 - val_loss: 0.0058 - val_mean_squared_error: 0.0058\n",
            "Epoch 29/50\n",
            "34/34 [==============================] - 0s 3ms/step - loss: 0.0058 - mean_squared_error: 0.0058 - val_loss: 0.0060 - val_mean_squared_error: 0.0060\n",
            "Epoch 30/50\n",
            "34/34 [==============================] - 0s 3ms/step - loss: 0.0059 - mean_squared_error: 0.0059 - val_loss: 0.0059 - val_mean_squared_error: 0.0059\n",
            "Epoch 31/50\n",
            "34/34 [==============================] - 0s 3ms/step - loss: 0.0058 - mean_squared_error: 0.0058 - val_loss: 0.0058 - val_mean_squared_error: 0.0058\n",
            "Epoch 32/50\n",
            "34/34 [==============================] - 0s 2ms/step - loss: 0.0059 - mean_squared_error: 0.0059 - val_loss: 0.0061 - val_mean_squared_error: 0.0061\n",
            "Epoch 33/50\n",
            "34/34 [==============================] - 0s 3ms/step - loss: 0.0058 - mean_squared_error: 0.0058 - val_loss: 0.0059 - val_mean_squared_error: 0.0059\n",
            "Epoch 34/50\n",
            "34/34 [==============================] - 0s 3ms/step - loss: 0.0057 - mean_squared_error: 0.0057 - val_loss: 0.0059 - val_mean_squared_error: 0.0059\n",
            "Epoch 35/50\n",
            "34/34 [==============================] - 0s 3ms/step - loss: 0.0058 - mean_squared_error: 0.0058 - val_loss: 0.0057 - val_mean_squared_error: 0.0057\n",
            "Epoch 36/50\n",
            "34/34 [==============================] - 0s 3ms/step - loss: 0.0057 - mean_squared_error: 0.0057 - val_loss: 0.0061 - val_mean_squared_error: 0.0061\n",
            "Epoch 37/50\n",
            "34/34 [==============================] - 0s 3ms/step - loss: 0.0058 - mean_squared_error: 0.0058 - val_loss: 0.0057 - val_mean_squared_error: 0.0057\n",
            "Epoch 38/50\n",
            "34/34 [==============================] - 0s 3ms/step - loss: 0.0057 - mean_squared_error: 0.0057 - val_loss: 0.0059 - val_mean_squared_error: 0.0059\n",
            "Epoch 39/50\n",
            "34/34 [==============================] - 0s 3ms/step - loss: 0.0057 - mean_squared_error: 0.0057 - val_loss: 0.0057 - val_mean_squared_error: 0.0057\n",
            "Epoch 40/50\n",
            "34/34 [==============================] - 0s 2ms/step - loss: 0.0058 - mean_squared_error: 0.0058 - val_loss: 0.0057 - val_mean_squared_error: 0.0057\n",
            "Epoch 41/50\n",
            "34/34 [==============================] - 0s 3ms/step - loss: 0.0058 - mean_squared_error: 0.0058 - val_loss: 0.0060 - val_mean_squared_error: 0.0060\n",
            "Epoch 42/50\n",
            "34/34 [==============================] - 0s 3ms/step - loss: 0.0058 - mean_squared_error: 0.0058 - val_loss: 0.0058 - val_mean_squared_error: 0.0058\n",
            "Epoch 43/50\n",
            "34/34 [==============================] - 0s 2ms/step - loss: 0.0057 - mean_squared_error: 0.0057 - val_loss: 0.0057 - val_mean_squared_error: 0.0057\n",
            "Epoch 44/50\n",
            "34/34 [==============================] - 0s 3ms/step - loss: 0.0057 - mean_squared_error: 0.0057 - val_loss: 0.0057 - val_mean_squared_error: 0.0057\n",
            "Epoch 45/50\n",
            "34/34 [==============================] - 0s 3ms/step - loss: 0.0057 - mean_squared_error: 0.0057 - val_loss: 0.0058 - val_mean_squared_error: 0.0058\n",
            "Epoch 46/50\n",
            "34/34 [==============================] - 0s 2ms/step - loss: 0.0056 - mean_squared_error: 0.0056 - val_loss: 0.0057 - val_mean_squared_error: 0.0057\n",
            "Epoch 47/50\n",
            "34/34 [==============================] - 0s 3ms/step - loss: 0.0057 - mean_squared_error: 0.0057 - val_loss: 0.0057 - val_mean_squared_error: 0.0057\n",
            "Epoch 48/50\n",
            "34/34 [==============================] - 0s 3ms/step - loss: 0.0056 - mean_squared_error: 0.0056 - val_loss: 0.0057 - val_mean_squared_error: 0.0057\n",
            "Epoch 49/50\n",
            "34/34 [==============================] - 0s 3ms/step - loss: 0.0056 - mean_squared_error: 0.0056 - val_loss: 0.0057 - val_mean_squared_error: 0.0057\n",
            "Epoch 50/50\n",
            "34/34 [==============================] - 0s 3ms/step - loss: 0.0056 - mean_squared_error: 0.0056 - val_loss: 0.0057 - val_mean_squared_error: 0.0057\n"
          ]
        }
      ]
    },
    {
      "cell_type": "code",
      "source": [
        ""
      ],
      "metadata": {
        "id": "IsJACgbWorXX"
      },
      "execution_count": 15,
      "outputs": []
    },
    {
      "cell_type": "code",
      "source": [
        "acc = history.history['mean_squared_error']\n",
        "loss = history.history['loss']"
      ],
      "metadata": {
        "id": "R-ltHbwvptpp"
      },
      "execution_count": 16,
      "outputs": []
    },
    {
      "cell_type": "code",
      "source": [
        "from matplotlib import pyplot as plt\n",
        "plt.plot(acc)\n",
        "plt.title('model mean squared error')\n",
        "plt.ylabel('mean_squared_error')\n",
        "plt.xlabel('epoch')\n",
        "plt.legend(['train'], loc = 'upper left')\n",
        "plt.show()\n",
        "plt.savefig('accuracy_curve.png')"
      ],
      "metadata": {
        "colab": {
          "base_uri": "https://localhost:8080/",
          "height": 312
        },
        "id": "0Xs-ardCpxH9",
        "outputId": "d5c4323e-3d05-45c7-8d47-9d744f2c7e58"
      },
      "execution_count": 17,
      "outputs": [
        {
          "output_type": "display_data",
          "data": {
            "text/plain": [
              "<Figure size 432x288 with 1 Axes>"
            ],
            "image/png": "[encoded data removed]"
          },
          "metadata": {
            "needs_background": "light"
          }
        },
        {
          "output_type": "display_data",
          "data": {
            "text/plain": [
              "<Figure size 432x288 with 0 Axes>"
            ]
          },
          "metadata": {}
        }
      ]
    },
    {
      "cell_type": "code",
      "source": [
        "plt.plot(loss)\n",
        "plt.title('model loss')\n",
        "plt.ylabel('loss')\n",
        "plt.xlabel('epoch')\n",
        "plt.legend(['train'], loc = 'upper left')\n",
        "plt.show()\n",
        "plt.savefig('loss_curve.png')"
      ],
      "metadata": {
        "colab": {
          "base_uri": "https://localhost:8080/",
          "height": 312
        },
        "id": "K7e_4wzUp2C4",
        "outputId": "56ba11f5-894f-4e06-d711-f02c53a65f70"
      },
      "execution_count": 18,
      "outputs": [
        {
          "output_type": "display_data",
          "data": {
            "text/plain": [
              "<Figure size 432x288 with 1 Axes>"
            ],
            "image/png": "[encoded data removed]"
          },
          "metadata": {
            "needs_background": "light"
          }
        },
        {
          "output_type": "display_data",
          "data": {
            "text/plain": [
              "<Figure size 432x288 with 0 Axes>"
            ]
          },
          "metadata": {}
        }
      ]
    },
    {
      "cell_type": "code",
      "source": [
        "history_test = model.evaluate(X_test, y_test)"
      ],
      "metadata": {
        "id": "VjrY54kB7YDU",
        "colab": {
          "base_uri": "https://localhost:8080/"
        },
        "outputId": "3b8c055d-27cb-412f-8f7f-c06847915f08"
      },
      "execution_count": 19,
      "outputs": [
        {
          "output_type": "stream",
          "name": "stdout",
          "text": [
            "9/9 [==============================] - 0s 2ms/step - loss: 0.0057 - mean_squared_error: 0.0057\n"
          ]
        }
      ]
    },
    {
      "cell_type": "code",
      "source": [
        "history_test"
      ],
      "metadata": {
        "id": "BttkeUCwX6QW",
        "colab": {
          "base_uri": "https://localhost:8080/"
        },
        "outputId": "f3618da8-8df0-41a4-8244-2cea7afc64e5"
      },
      "execution_count": 20,
      "outputs": [
        {
          "output_type": "execute_result",
          "data": {
            "text/plain": [
              "[0.005694346968084574, 0.005694346968084574]"
            ]
          },
          "metadata": {},
          "execution_count": 20
        }
      ]
    }
  ]
}